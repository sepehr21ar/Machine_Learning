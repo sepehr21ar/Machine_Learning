{
 "cells": [
  {
   "metadata": {
    "ExecuteTime": {
     "end_time": "2025-01-10T10:42:51.942988Z",
     "start_time": "2025-01-10T10:42:51.937987Z"
    }
   },
   "cell_type": "code",
   "source": [
    "import os\n",
    "print(os.getcwd())\n"
   ],
   "id": "986f7f2295aeca6f",
   "outputs": [
    {
     "name": "stdout",
     "output_type": "stream",
     "text": [
      "C:\\Users\\sepeh\\PycharmProjects\\MachinLearning\n"
     ]
    }
   ],
   "execution_count": 56
  },
  {
   "cell_type": "code",
   "id": "initial_id",
   "metadata": {
    "collapsed": true,
    "ExecuteTime": {
     "end_time": "2025-01-10T18:17:05.877617Z",
     "start_time": "2025-01-10T18:16:54.328587Z"
    }
   },
   "source": [
    "from  tensorflow import keras\n",
    "from keras.models import Sequential\n",
    "from keras.layers import Dense\n",
    "import numpy as np\n",
    "from  load_hoda import Load_Hoda\n"
   ],
   "outputs": [],
   "execution_count": 1
  },
  {
   "metadata": {
    "ExecuteTime": {
     "end_time": "2025-01-10T18:18:15.097379Z",
     "start_time": "2025-01-10T18:18:14.670800Z"
    }
   },
   "cell_type": "code",
   "source": [
    " \n",
    "X_train_original, y_train_original, X_test_original, y_test_original = Load_Hoda()\n"
   ],
   "id": "7f1a57a91a1ce70b",
   "outputs": [],
   "execution_count": 2
  },
  {
   "metadata": {
    "ExecuteTime": {
     "end_time": "2025-01-10T18:18:16.907116Z",
     "start_time": "2025-01-10T18:18:16.896087Z"
    }
   },
   "cell_type": "code",
   "source": "X_train_original.shape",
   "id": "1be6a285f37aafe1",
   "outputs": [
    {
     "data": {
      "text/plain": [
       "(1000, 25)"
      ]
     },
     "execution_count": 3,
     "metadata": {},
     "output_type": "execute_result"
    }
   ],
   "execution_count": 3
  },
  {
   "metadata": {
    "ExecuteTime": {
     "end_time": "2025-01-10T18:18:18.387187Z",
     "start_time": "2025-01-10T18:18:18.357007Z"
    }
   },
   "cell_type": "code",
   "source": "y_train_original.max()+1",
   "id": "19478a914610b3cc",
   "outputs": [
    {
     "data": {
      "text/plain": [
       "10"
      ]
     },
     "execution_count": 4,
     "metadata": {},
     "output_type": "execute_result"
    }
   ],
   "execution_count": 4
  },
  {
   "metadata": {
    "ExecuteTime": {
     "end_time": "2025-01-10T18:18:20.455562Z",
     "start_time": "2025-01-10T18:18:20.447520Z"
    }
   },
   "cell_type": "code",
   "source": [
    "# Preprocess input data \n",
    "# for Keras.\n",
    "y_train = keras.utils.to_categorical(y_train_original, num_classes=10)\n",
    "y_test = keras.utils.to_categorical(y_test_original, num_classes=10)\n"
   ],
   "id": "96747b7d5e458a75",
   "outputs": [],
   "execution_count": 5
  },
  {
   "metadata": {
    "ExecuteTime": {
     "end_time": "2025-01-10T18:18:21.831067Z",
     "start_time": "2025-01-10T18:18:21.823126Z"
    }
   },
   "cell_type": "code",
   "source": "y_train_original[:5]\n",
   "id": "97b6fe3e7f6fb9fd",
   "outputs": [
    {
     "data": {
      "text/plain": [
       "array([6, 5, 0, 2, 7], dtype=uint8)"
      ]
     },
     "execution_count": 6,
     "metadata": {},
     "output_type": "execute_result"
    }
   ],
   "execution_count": 6
  },
  {
   "metadata": {
    "ExecuteTime": {
     "end_time": "2025-01-10T18:18:22.543453Z",
     "start_time": "2025-01-10T18:18:22.532757Z"
    }
   },
   "cell_type": "code",
   "source": "y_train[:5]",
   "id": "c0cd13deb93d3548",
   "outputs": [
    {
     "data": {
      "text/plain": [
       "array([[0., 0., 0., 0., 0., 0., 1., 0., 0., 0.],\n",
       "       [0., 0., 0., 0., 0., 1., 0., 0., 0., 0.],\n",
       "       [1., 0., 0., 0., 0., 0., 0., 0., 0., 0.],\n",
       "       [0., 0., 1., 0., 0., 0., 0., 0., 0., 0.],\n",
       "       [0., 0., 0., 0., 0., 0., 0., 1., 0., 0.]])"
      ]
     },
     "execution_count": 7,
     "metadata": {},
     "output_type": "execute_result"
    }
   ],
   "execution_count": 7
  },
  {
   "metadata": {
    "ExecuteTime": {
     "end_time": "2025-01-10T18:18:23.568328Z",
     "start_time": "2025-01-10T18:18:23.558529Z"
    }
   },
   "cell_type": "code",
   "source": [
    "X_train = X_train_original.astype('float32')\n",
    "X_test = X_test_original.astype('float32')\n",
    "\n",
    "X_train /= 255\n",
    "X_test /= 255\n"
   ],
   "id": "5aa643a1745c591d",
   "outputs": [],
   "execution_count": 8
  },
  {
   "metadata": {},
   "cell_type": "markdown",
   "source": "Modeling\n",
   "id": "9e620639b8f3a05d"
  },
  {
   "metadata": {
    "ExecuteTime": {
     "end_time": "2025-01-10T18:21:28.513652Z",
     "start_time": "2025-01-10T18:21:28.460812Z"
    }
   },
   "cell_type": "code",
   "source": [
    "\n",
    "model = Sequential()\n",
    "#model.add(Dense(64, activation = 'relu', input_dim= 25))\n",
    "model.add(Dense(100, activation = 'relu', input_dim= 25))\n",
    "model.add(Dense(200, activation = 'relu'))\n",
    "model.add(Dense(200, activation = 'relu'))\n",
    "model.add(Dense(10, activation = 'softmax'))"
   ],
   "id": "2daf72cc47d3c051",
   "outputs": [],
   "execution_count": 23
  },
  {
   "metadata": {
    "ExecuteTime": {
     "end_time": "2025-01-10T10:42:53.024769Z",
     "start_time": "2025-01-10T10:42:53.020895Z"
    }
   },
   "cell_type": "code",
   "source": "",
   "id": "d3f6168f2bfccd76",
   "outputs": [],
   "execution_count": 67
  },
  {
   "metadata": {
    "ExecuteTime": {
     "end_time": "2025-01-10T18:21:30.741396Z",
     "start_time": "2025-01-10T18:21:30.734059Z"
    }
   },
   "cell_type": "code",
   "source": "X_train.shape",
   "id": "5af12fc9b4c8d30b",
   "outputs": [
    {
     "data": {
      "text/plain": [
       "(1000, 25)"
      ]
     },
     "execution_count": 24,
     "metadata": {},
     "output_type": "execute_result"
    }
   ],
   "execution_count": 24
  },
  {
   "metadata": {},
   "cell_type": "code",
   "outputs": [],
   "execution_count": null,
   "source": "",
   "id": "3a751994f4ffd73"
  },
  {
   "metadata": {
    "ExecuteTime": {
     "end_time": "2025-01-10T18:21:31.962188Z",
     "start_time": "2025-01-10T18:21:31.935779Z"
    }
   },
   "cell_type": "code",
   "source": "model.summary()",
   "id": "8f8fc87f56891d4e",
   "outputs": [
    {
     "data": {
      "text/plain": [
       "\u001B[1mModel: \"sequential_3\"\u001B[0m\n"
      ],
      "text/html": [
       "<pre style=\"white-space:pre;overflow-x:auto;line-height:normal;font-family:Menlo,'DejaVu Sans Mono',consolas,'Courier New',monospace\"><span style=\"font-weight: bold\">Model: \"sequential_3\"</span>\n",
       "</pre>\n"
      ]
     },
     "metadata": {},
     "output_type": "display_data"
    },
    {
     "data": {
      "text/plain": [
       "┏━━━━━━━━━━━━━━━━━━━━━━━━━━━━━━━━━┳━━━━━━━━━━━━━━━━━━━━━━━━┳━━━━━━━━━━━━━━━┓\n",
       "┃\u001B[1m \u001B[0m\u001B[1mLayer (type)                   \u001B[0m\u001B[1m \u001B[0m┃\u001B[1m \u001B[0m\u001B[1mOutput Shape          \u001B[0m\u001B[1m \u001B[0m┃\u001B[1m \u001B[0m\u001B[1m      Param #\u001B[0m\u001B[1m \u001B[0m┃\n",
       "┡━━━━━━━━━━━━━━━━━━━━━━━━━━━━━━━━━╇━━━━━━━━━━━━━━━━━━━━━━━━╇━━━━━━━━━━━━━━━┩\n",
       "│ dense_8 (\u001B[38;5;33mDense\u001B[0m)                 │ (\u001B[38;5;45mNone\u001B[0m, \u001B[38;5;34m100\u001B[0m)            │         \u001B[38;5;34m2,600\u001B[0m │\n",
       "├─────────────────────────────────┼────────────────────────┼───────────────┤\n",
       "│ dense_9 (\u001B[38;5;33mDense\u001B[0m)                 │ (\u001B[38;5;45mNone\u001B[0m, \u001B[38;5;34m200\u001B[0m)            │        \u001B[38;5;34m20,200\u001B[0m │\n",
       "├─────────────────────────────────┼────────────────────────┼───────────────┤\n",
       "│ dense_10 (\u001B[38;5;33mDense\u001B[0m)                │ (\u001B[38;5;45mNone\u001B[0m, \u001B[38;5;34m200\u001B[0m)            │        \u001B[38;5;34m40,200\u001B[0m │\n",
       "├─────────────────────────────────┼────────────────────────┼───────────────┤\n",
       "│ dense_11 (\u001B[38;5;33mDense\u001B[0m)                │ (\u001B[38;5;45mNone\u001B[0m, \u001B[38;5;34m10\u001B[0m)             │         \u001B[38;5;34m2,010\u001B[0m │\n",
       "└─────────────────────────────────┴────────────────────────┴───────────────┘\n"
      ],
      "text/html": [
       "<pre style=\"white-space:pre;overflow-x:auto;line-height:normal;font-family:Menlo,'DejaVu Sans Mono',consolas,'Courier New',monospace\">┏━━━━━━━━━━━━━━━━━━━━━━━━━━━━━━━━━┳━━━━━━━━━━━━━━━━━━━━━━━━┳━━━━━━━━━━━━━━━┓\n",
       "┃<span style=\"font-weight: bold\"> Layer (type)                    </span>┃<span style=\"font-weight: bold\"> Output Shape           </span>┃<span style=\"font-weight: bold\">       Param # </span>┃\n",
       "┡━━━━━━━━━━━━━━━━━━━━━━━━━━━━━━━━━╇━━━━━━━━━━━━━━━━━━━━━━━━╇━━━━━━━━━━━━━━━┩\n",
       "│ dense_8 (<span style=\"color: #0087ff; text-decoration-color: #0087ff\">Dense</span>)                 │ (<span style=\"color: #00d7ff; text-decoration-color: #00d7ff\">None</span>, <span style=\"color: #00af00; text-decoration-color: #00af00\">100</span>)            │         <span style=\"color: #00af00; text-decoration-color: #00af00\">2,600</span> │\n",
       "├─────────────────────────────────┼────────────────────────┼───────────────┤\n",
       "│ dense_9 (<span style=\"color: #0087ff; text-decoration-color: #0087ff\">Dense</span>)                 │ (<span style=\"color: #00d7ff; text-decoration-color: #00d7ff\">None</span>, <span style=\"color: #00af00; text-decoration-color: #00af00\">200</span>)            │        <span style=\"color: #00af00; text-decoration-color: #00af00\">20,200</span> │\n",
       "├─────────────────────────────────┼────────────────────────┼───────────────┤\n",
       "│ dense_10 (<span style=\"color: #0087ff; text-decoration-color: #0087ff\">Dense</span>)                │ (<span style=\"color: #00d7ff; text-decoration-color: #00d7ff\">None</span>, <span style=\"color: #00af00; text-decoration-color: #00af00\">200</span>)            │        <span style=\"color: #00af00; text-decoration-color: #00af00\">40,200</span> │\n",
       "├─────────────────────────────────┼────────────────────────┼───────────────┤\n",
       "│ dense_11 (<span style=\"color: #0087ff; text-decoration-color: #0087ff\">Dense</span>)                │ (<span style=\"color: #00d7ff; text-decoration-color: #00d7ff\">None</span>, <span style=\"color: #00af00; text-decoration-color: #00af00\">10</span>)             │         <span style=\"color: #00af00; text-decoration-color: #00af00\">2,010</span> │\n",
       "└─────────────────────────────────┴────────────────────────┴───────────────┘\n",
       "</pre>\n"
      ]
     },
     "metadata": {},
     "output_type": "display_data"
    },
    {
     "data": {
      "text/plain": [
       "\u001B[1m Total params: \u001B[0m\u001B[38;5;34m65,010\u001B[0m (253.95 KB)\n"
      ],
      "text/html": [
       "<pre style=\"white-space:pre;overflow-x:auto;line-height:normal;font-family:Menlo,'DejaVu Sans Mono',consolas,'Courier New',monospace\"><span style=\"font-weight: bold\"> Total params: </span><span style=\"color: #00af00; text-decoration-color: #00af00\">65,010</span> (253.95 KB)\n",
       "</pre>\n"
      ]
     },
     "metadata": {},
     "output_type": "display_data"
    },
    {
     "data": {
      "text/plain": [
       "\u001B[1m Trainable params: \u001B[0m\u001B[38;5;34m65,010\u001B[0m (253.95 KB)\n"
      ],
      "text/html": [
       "<pre style=\"white-space:pre;overflow-x:auto;line-height:normal;font-family:Menlo,'DejaVu Sans Mono',consolas,'Courier New',monospace\"><span style=\"font-weight: bold\"> Trainable params: </span><span style=\"color: #00af00; text-decoration-color: #00af00\">65,010</span> (253.95 KB)\n",
       "</pre>\n"
      ]
     },
     "metadata": {},
     "output_type": "display_data"
    },
    {
     "data": {
      "text/plain": [
       "\u001B[1m Non-trainable params: \u001B[0m\u001B[38;5;34m0\u001B[0m (0.00 B)\n"
      ],
      "text/html": [
       "<pre style=\"white-space:pre;overflow-x:auto;line-height:normal;font-family:Menlo,'DejaVu Sans Mono',consolas,'Courier New',monospace\"><span style=\"font-weight: bold\"> Non-trainable params: </span><span style=\"color: #00af00; text-decoration-color: #00af00\">0</span> (0.00 B)\n",
       "</pre>\n"
      ]
     },
     "metadata": {},
     "output_type": "display_data"
    }
   ],
   "execution_count": 25
  },
  {
   "metadata": {
    "ExecuteTime": {
     "end_time": "2025-01-10T10:42:53.889748Z",
     "start_time": "2025-01-10T10:42:53.876713Z"
    }
   },
   "cell_type": "code",
   "source": "",
   "id": "ccf8265da0c7be57",
   "outputs": [],
   "execution_count": 72
  },
  {
   "metadata": {
    "ExecuteTime": {
     "end_time": "2025-01-10T18:21:36.952521Z",
     "start_time": "2025-01-10T18:21:36.939487Z"
    }
   },
   "cell_type": "code",
   "source": [
    "\n",
    "model.compile(loss='categorical_crossentropy',\n",
    "              optimizer='rmsprop',\n",
    "              metrics=['accuracy'])"
   ],
   "id": "e71d2cdf79be2d1c",
   "outputs": [],
   "execution_count": 26
  },
  {
   "metadata": {
    "ExecuteTime": {
     "end_time": "2025-01-10T18:22:01.920591Z",
     "start_time": "2025-01-10T18:21:46.707030Z"
    }
   },
   "cell_type": "code",
   "source": [
    "\n",
    "history = model.fit(X_train, y_train,\n",
    "          epochs=100,\n",
    "          batch_size=64, validation_split=0.2)"
   ],
   "id": "195fb81df152a3bf",
   "outputs": [
    {
     "name": "stdout",
     "output_type": "stream",
     "text": [
      "Epoch 1/100\n",
      "\u001B[1m13/13\u001B[0m \u001B[32m━━━━━━━━━━━━━━━━━━━━\u001B[0m\u001B[37m\u001B[0m \u001B[1m2s\u001B[0m 24ms/step - accuracy: 0.3234 - loss: 2.0592 - val_accuracy: 0.7300 - val_loss: 1.2867\n",
      "Epoch 2/100\n",
      "\u001B[1m13/13\u001B[0m \u001B[32m━━━━━━━━━━━━━━━━━━━━\u001B[0m\u001B[37m\u001B[0m \u001B[1m0s\u001B[0m 7ms/step - accuracy: 0.7549 - loss: 1.1177 - val_accuracy: 0.8450 - val_loss: 0.7387\n",
      "Epoch 3/100\n",
      "\u001B[1m13/13\u001B[0m \u001B[32m━━━━━━━━━━━━━━━━━━━━\u001B[0m\u001B[37m\u001B[0m \u001B[1m0s\u001B[0m 8ms/step - accuracy: 0.8374 - loss: 0.6640 - val_accuracy: 0.8200 - val_loss: 0.6128\n",
      "Epoch 4/100\n",
      "\u001B[1m13/13\u001B[0m \u001B[32m━━━━━━━━━━━━━━━━━━━━\u001B[0m\u001B[37m\u001B[0m \u001B[1m0s\u001B[0m 7ms/step - accuracy: 0.8466 - loss: 0.5129 - val_accuracy: 0.8700 - val_loss: 0.4686\n",
      "Epoch 5/100\n",
      "\u001B[1m13/13\u001B[0m \u001B[32m━━━━━━━━━━━━━━━━━━━━\u001B[0m\u001B[37m\u001B[0m \u001B[1m0s\u001B[0m 7ms/step - accuracy: 0.8712 - loss: 0.4207 - val_accuracy: 0.8900 - val_loss: 0.4271\n",
      "Epoch 6/100\n",
      "\u001B[1m13/13\u001B[0m \u001B[32m━━━━━━━━━━━━━━━━━━━━\u001B[0m\u001B[37m\u001B[0m \u001B[1m0s\u001B[0m 8ms/step - accuracy: 0.8872 - loss: 0.3547 - val_accuracy: 0.8850 - val_loss: 0.4031\n",
      "Epoch 7/100\n",
      "\u001B[1m13/13\u001B[0m \u001B[32m━━━━━━━━━━━━━━━━━━━━\u001B[0m\u001B[37m\u001B[0m \u001B[1m0s\u001B[0m 8ms/step - accuracy: 0.8937 - loss: 0.3075 - val_accuracy: 0.8500 - val_loss: 0.4705\n",
      "Epoch 8/100\n",
      "\u001B[1m13/13\u001B[0m \u001B[32m━━━━━━━━━━━━━━━━━━━━\u001B[0m\u001B[37m\u001B[0m \u001B[1m0s\u001B[0m 8ms/step - accuracy: 0.9055 - loss: 0.2903 - val_accuracy: 0.8600 - val_loss: 0.4389\n",
      "Epoch 9/100\n",
      "\u001B[1m13/13\u001B[0m \u001B[32m━━━━━━━━━━━━━━━━━━━━\u001B[0m\u001B[37m\u001B[0m \u001B[1m0s\u001B[0m 8ms/step - accuracy: 0.9229 - loss: 0.2645 - val_accuracy: 0.8800 - val_loss: 0.3601\n",
      "Epoch 10/100\n",
      "\u001B[1m13/13\u001B[0m \u001B[32m━━━━━━━━━━━━━━━━━━━━\u001B[0m\u001B[37m\u001B[0m \u001B[1m0s\u001B[0m 14ms/step - accuracy: 0.9254 - loss: 0.2273 - val_accuracy: 0.8900 - val_loss: 0.3770\n",
      "Epoch 11/100\n",
      "\u001B[1m13/13\u001B[0m \u001B[32m━━━━━━━━━━━━━━━━━━━━\u001B[0m\u001B[37m\u001B[0m \u001B[1m0s\u001B[0m 7ms/step - accuracy: 0.9230 - loss: 0.2385 - val_accuracy: 0.8700 - val_loss: 0.3802\n",
      "Epoch 12/100\n",
      "\u001B[1m13/13\u001B[0m \u001B[32m━━━━━━━━━━━━━━━━━━━━\u001B[0m\u001B[37m\u001B[0m \u001B[1m0s\u001B[0m 7ms/step - accuracy: 0.9398 - loss: 0.1809 - val_accuracy: 0.8800 - val_loss: 0.3653\n",
      "Epoch 13/100\n",
      "\u001B[1m13/13\u001B[0m \u001B[32m━━━━━━━━━━━━━━━━━━━━\u001B[0m\u001B[37m\u001B[0m \u001B[1m0s\u001B[0m 7ms/step - accuracy: 0.9446 - loss: 0.1832 - val_accuracy: 0.9000 - val_loss: 0.3276\n",
      "Epoch 14/100\n",
      "\u001B[1m13/13\u001B[0m \u001B[32m━━━━━━━━━━━━━━━━━━━━\u001B[0m\u001B[37m\u001B[0m \u001B[1m0s\u001B[0m 7ms/step - accuracy: 0.9376 - loss: 0.1818 - val_accuracy: 0.9100 - val_loss: 0.3043\n",
      "Epoch 15/100\n",
      "\u001B[1m13/13\u001B[0m \u001B[32m━━━━━━━━━━━━━━━━━━━━\u001B[0m\u001B[37m\u001B[0m \u001B[1m0s\u001B[0m 7ms/step - accuracy: 0.9569 - loss: 0.1414 - val_accuracy: 0.9100 - val_loss: 0.3633\n",
      "Epoch 16/100\n",
      "\u001B[1m13/13\u001B[0m \u001B[32m━━━━━━━━━━━━━━━━━━━━\u001B[0m\u001B[37m\u001B[0m \u001B[1m0s\u001B[0m 7ms/step - accuracy: 0.9509 - loss: 0.1537 - val_accuracy: 0.9000 - val_loss: 0.3140\n",
      "Epoch 17/100\n",
      "\u001B[1m13/13\u001B[0m \u001B[32m━━━━━━━━━━━━━━━━━━━━\u001B[0m\u001B[37m\u001B[0m \u001B[1m0s\u001B[0m 7ms/step - accuracy: 0.9566 - loss: 0.1369 - val_accuracy: 0.8950 - val_loss: 0.2978\n",
      "Epoch 18/100\n",
      "\u001B[1m13/13\u001B[0m \u001B[32m━━━━━━━━━━━━━━━━━━━━\u001B[0m\u001B[37m\u001B[0m \u001B[1m0s\u001B[0m 8ms/step - accuracy: 0.9657 - loss: 0.1091 - val_accuracy: 0.8650 - val_loss: 0.3842\n",
      "Epoch 19/100\n",
      "\u001B[1m13/13\u001B[0m \u001B[32m━━━━━━━━━━━━━━━━━━━━\u001B[0m\u001B[37m\u001B[0m \u001B[1m0s\u001B[0m 8ms/step - accuracy: 0.9530 - loss: 0.1383 - val_accuracy: 0.8750 - val_loss: 0.4045\n",
      "Epoch 20/100\n",
      "\u001B[1m13/13\u001B[0m \u001B[32m━━━━━━━━━━━━━━━━━━━━\u001B[0m\u001B[37m\u001B[0m \u001B[1m0s\u001B[0m 7ms/step - accuracy: 0.9678 - loss: 0.1240 - val_accuracy: 0.8750 - val_loss: 0.3736\n",
      "Epoch 21/100\n",
      "\u001B[1m13/13\u001B[0m \u001B[32m━━━━━━━━━━━━━━━━━━━━\u001B[0m\u001B[37m\u001B[0m \u001B[1m0s\u001B[0m 7ms/step - accuracy: 0.9730 - loss: 0.1028 - val_accuracy: 0.9050 - val_loss: 0.3186\n",
      "Epoch 22/100\n",
      "\u001B[1m13/13\u001B[0m \u001B[32m━━━━━━━━━━━━━━━━━━━━\u001B[0m\u001B[37m\u001B[0m \u001B[1m0s\u001B[0m 7ms/step - accuracy: 0.9580 - loss: 0.1198 - val_accuracy: 0.8650 - val_loss: 0.3722\n",
      "Epoch 23/100\n",
      "\u001B[1m13/13\u001B[0m \u001B[32m━━━━━━━━━━━━━━━━━━━━\u001B[0m\u001B[37m\u001B[0m \u001B[1m0s\u001B[0m 8ms/step - accuracy: 0.9691 - loss: 0.1022 - val_accuracy: 0.9050 - val_loss: 0.3346\n",
      "Epoch 24/100\n",
      "\u001B[1m13/13\u001B[0m \u001B[32m━━━━━━━━━━━━━━━━━━━━\u001B[0m\u001B[37m\u001B[0m \u001B[1m0s\u001B[0m 7ms/step - accuracy: 0.9715 - loss: 0.0885 - val_accuracy: 0.9100 - val_loss: 0.3484\n",
      "Epoch 25/100\n",
      "\u001B[1m13/13\u001B[0m \u001B[32m━━━━━━━━━━━━━━━━━━━━\u001B[0m\u001B[37m\u001B[0m \u001B[1m0s\u001B[0m 7ms/step - accuracy: 0.9771 - loss: 0.0772 - val_accuracy: 0.8900 - val_loss: 0.3698\n",
      "Epoch 26/100\n",
      "\u001B[1m13/13\u001B[0m \u001B[32m━━━━━━━━━━━━━━━━━━━━\u001B[0m\u001B[37m\u001B[0m \u001B[1m0s\u001B[0m 7ms/step - accuracy: 0.9771 - loss: 0.0732 - val_accuracy: 0.9050 - val_loss: 0.3729\n",
      "Epoch 27/100\n",
      "\u001B[1m13/13\u001B[0m \u001B[32m━━━━━━━━━━━━━━━━━━━━\u001B[0m\u001B[37m\u001B[0m \u001B[1m0s\u001B[0m 7ms/step - accuracy: 0.9838 - loss: 0.0644 - val_accuracy: 0.9100 - val_loss: 0.4211\n",
      "Epoch 28/100\n",
      "\u001B[1m13/13\u001B[0m \u001B[32m━━━━━━━━━━━━━━━━━━━━\u001B[0m\u001B[37m\u001B[0m \u001B[1m0s\u001B[0m 7ms/step - accuracy: 0.9784 - loss: 0.0671 - val_accuracy: 0.8800 - val_loss: 0.3747\n",
      "Epoch 29/100\n",
      "\u001B[1m13/13\u001B[0m \u001B[32m━━━━━━━━━━━━━━━━━━━━\u001B[0m\u001B[37m\u001B[0m \u001B[1m0s\u001B[0m 7ms/step - accuracy: 0.9816 - loss: 0.0691 - val_accuracy: 0.9100 - val_loss: 0.3828\n",
      "Epoch 30/100\n",
      "\u001B[1m13/13\u001B[0m \u001B[32m━━━━━━━━━━━━━━━━━━━━\u001B[0m\u001B[37m\u001B[0m \u001B[1m0s\u001B[0m 7ms/step - accuracy: 0.9904 - loss: 0.0520 - val_accuracy: 0.9050 - val_loss: 0.3736\n",
      "Epoch 31/100\n",
      "\u001B[1m13/13\u001B[0m \u001B[32m━━━━━━━━━━━━━━━━━━━━\u001B[0m\u001B[37m\u001B[0m \u001B[1m0s\u001B[0m 7ms/step - accuracy: 0.9801 - loss: 0.0556 - val_accuracy: 0.9000 - val_loss: 0.3950\n",
      "Epoch 32/100\n",
      "\u001B[1m13/13\u001B[0m \u001B[32m━━━━━━━━━━━━━━━━━━━━\u001B[0m\u001B[37m\u001B[0m \u001B[1m0s\u001B[0m 7ms/step - accuracy: 0.9837 - loss: 0.0510 - val_accuracy: 0.8700 - val_loss: 0.3668\n",
      "Epoch 33/100\n",
      "\u001B[1m13/13\u001B[0m \u001B[32m━━━━━━━━━━━━━━━━━━━━\u001B[0m\u001B[37m\u001B[0m \u001B[1m0s\u001B[0m 8ms/step - accuracy: 0.9810 - loss: 0.0596 - val_accuracy: 0.8750 - val_loss: 0.3879\n",
      "Epoch 34/100\n",
      "\u001B[1m13/13\u001B[0m \u001B[32m━━━━━━━━━━━━━━━━━━━━\u001B[0m\u001B[37m\u001B[0m \u001B[1m0s\u001B[0m 6ms/step - accuracy: 0.9844 - loss: 0.0439 - val_accuracy: 0.8800 - val_loss: 0.3916\n",
      "Epoch 35/100\n",
      "\u001B[1m13/13\u001B[0m \u001B[32m━━━━━━━━━━━━━━━━━━━━\u001B[0m\u001B[37m\u001B[0m \u001B[1m0s\u001B[0m 7ms/step - accuracy: 0.9946 - loss: 0.0393 - val_accuracy: 0.8950 - val_loss: 0.3765\n",
      "Epoch 36/100\n",
      "\u001B[1m13/13\u001B[0m \u001B[32m━━━━━━━━━━━━━━━━━━━━\u001B[0m\u001B[37m\u001B[0m \u001B[1m0s\u001B[0m 8ms/step - accuracy: 0.9880 - loss: 0.0421 - val_accuracy: 0.9100 - val_loss: 0.3664\n",
      "Epoch 37/100\n",
      "\u001B[1m13/13\u001B[0m \u001B[32m━━━━━━━━━━━━━━━━━━━━\u001B[0m\u001B[37m\u001B[0m \u001B[1m0s\u001B[0m 7ms/step - accuracy: 0.9928 - loss: 0.0300 - val_accuracy: 0.9100 - val_loss: 0.4380\n",
      "Epoch 38/100\n",
      "\u001B[1m13/13\u001B[0m \u001B[32m━━━━━━━━━━━━━━━━━━━━\u001B[0m\u001B[37m\u001B[0m \u001B[1m0s\u001B[0m 7ms/step - accuracy: 0.9920 - loss: 0.0380 - val_accuracy: 0.8950 - val_loss: 0.4804\n",
      "Epoch 39/100\n",
      "\u001B[1m13/13\u001B[0m \u001B[32m━━━━━━━━━━━━━━━━━━━━\u001B[0m\u001B[37m\u001B[0m \u001B[1m0s\u001B[0m 7ms/step - accuracy: 0.9863 - loss: 0.0440 - val_accuracy: 0.9200 - val_loss: 0.4128\n",
      "Epoch 40/100\n",
      "\u001B[1m13/13\u001B[0m \u001B[32m━━━━━━━━━━━━━━━━━━━━\u001B[0m\u001B[37m\u001B[0m \u001B[1m0s\u001B[0m 8ms/step - accuracy: 0.9960 - loss: 0.0290 - val_accuracy: 0.8950 - val_loss: 0.4315\n",
      "Epoch 41/100\n",
      "\u001B[1m13/13\u001B[0m \u001B[32m━━━━━━━━━━━━━━━━━━━━\u001B[0m\u001B[37m\u001B[0m \u001B[1m0s\u001B[0m 7ms/step - accuracy: 0.9850 - loss: 0.0453 - val_accuracy: 0.8950 - val_loss: 0.4019\n",
      "Epoch 42/100\n",
      "\u001B[1m13/13\u001B[0m \u001B[32m━━━━━━━━━━━━━━━━━━━━\u001B[0m\u001B[37m\u001B[0m \u001B[1m0s\u001B[0m 7ms/step - accuracy: 0.9903 - loss: 0.0329 - val_accuracy: 0.9000 - val_loss: 0.4814\n",
      "Epoch 43/100\n",
      "\u001B[1m13/13\u001B[0m \u001B[32m━━━━━━━━━━━━━━━━━━━━\u001B[0m\u001B[37m\u001B[0m \u001B[1m0s\u001B[0m 8ms/step - accuracy: 0.9971 - loss: 0.0179 - val_accuracy: 0.8950 - val_loss: 0.5244\n",
      "Epoch 44/100\n",
      "\u001B[1m13/13\u001B[0m \u001B[32m━━━━━━━━━━━━━━━━━━━━\u001B[0m\u001B[37m\u001B[0m \u001B[1m0s\u001B[0m 7ms/step - accuracy: 0.9881 - loss: 0.0347 - val_accuracy: 0.8750 - val_loss: 0.4107\n",
      "Epoch 45/100\n",
      "\u001B[1m13/13\u001B[0m \u001B[32m━━━━━━━━━━━━━━━━━━━━\u001B[0m\u001B[37m\u001B[0m \u001B[1m0s\u001B[0m 8ms/step - accuracy: 0.9965 - loss: 0.0171 - val_accuracy: 0.8850 - val_loss: 0.4541\n",
      "Epoch 46/100\n",
      "\u001B[1m13/13\u001B[0m \u001B[32m━━━━━━━━━━━━━━━━━━━━\u001B[0m\u001B[37m\u001B[0m \u001B[1m0s\u001B[0m 7ms/step - accuracy: 0.9935 - loss: 0.0250 - val_accuracy: 0.9100 - val_loss: 0.3971\n",
      "Epoch 47/100\n",
      "\u001B[1m13/13\u001B[0m \u001B[32m━━━━━━━━━━━━━━━━━━━━\u001B[0m\u001B[37m\u001B[0m \u001B[1m0s\u001B[0m 7ms/step - accuracy: 0.9994 - loss: 0.0115 - val_accuracy: 0.9150 - val_loss: 0.5091\n",
      "Epoch 48/100\n",
      "\u001B[1m13/13\u001B[0m \u001B[32m━━━━━━━━━━━━━━━━━━━━\u001B[0m\u001B[37m\u001B[0m \u001B[1m0s\u001B[0m 8ms/step - accuracy: 0.9929 - loss: 0.0284 - val_accuracy: 0.9050 - val_loss: 0.4152\n",
      "Epoch 49/100\n",
      "\u001B[1m13/13\u001B[0m \u001B[32m━━━━━━━━━━━━━━━━━━━━\u001B[0m\u001B[37m\u001B[0m \u001B[1m0s\u001B[0m 7ms/step - accuracy: 0.9993 - loss: 0.0117 - val_accuracy: 0.9050 - val_loss: 0.4787\n",
      "Epoch 50/100\n",
      "\u001B[1m13/13\u001B[0m \u001B[32m━━━━━━━━━━━━━━━━━━━━\u001B[0m\u001B[37m\u001B[0m \u001B[1m0s\u001B[0m 7ms/step - accuracy: 0.9945 - loss: 0.0195 - val_accuracy: 0.9150 - val_loss: 0.4504\n",
      "Epoch 51/100\n",
      "\u001B[1m13/13\u001B[0m \u001B[32m━━━━━━━━━━━━━━━━━━━━\u001B[0m\u001B[37m\u001B[0m \u001B[1m0s\u001B[0m 7ms/step - accuracy: 0.9932 - loss: 0.0174 - val_accuracy: 0.8950 - val_loss: 0.4376\n",
      "Epoch 52/100\n",
      "\u001B[1m13/13\u001B[0m \u001B[32m━━━━━━━━━━━━━━━━━━━━\u001B[0m\u001B[37m\u001B[0m \u001B[1m0s\u001B[0m 7ms/step - accuracy: 0.9960 - loss: 0.0128 - val_accuracy: 0.9000 - val_loss: 0.4325\n",
      "Epoch 53/100\n",
      "\u001B[1m13/13\u001B[0m \u001B[32m━━━━━━━━━━━━━━━━━━━━\u001B[0m\u001B[37m\u001B[0m \u001B[1m0s\u001B[0m 8ms/step - accuracy: 0.9987 - loss: 0.0098 - val_accuracy: 0.9150 - val_loss: 0.4355\n",
      "Epoch 54/100\n",
      "\u001B[1m13/13\u001B[0m \u001B[32m━━━━━━━━━━━━━━━━━━━━\u001B[0m\u001B[37m\u001B[0m \u001B[1m0s\u001B[0m 7ms/step - accuracy: 0.9983 - loss: 0.0086 - val_accuracy: 0.9000 - val_loss: 0.4726\n",
      "Epoch 55/100\n",
      "\u001B[1m13/13\u001B[0m \u001B[32m━━━━━━━━━━━━━━━━━━━━\u001B[0m\u001B[37m\u001B[0m \u001B[1m0s\u001B[0m 7ms/step - accuracy: 0.9994 - loss: 0.0090 - val_accuracy: 0.9100 - val_loss: 0.4561\n",
      "Epoch 56/100\n",
      "\u001B[1m13/13\u001B[0m \u001B[32m━━━━━━━━━━━━━━━━━━━━\u001B[0m\u001B[37m\u001B[0m \u001B[1m0s\u001B[0m 7ms/step - accuracy: 0.9982 - loss: 0.0070 - val_accuracy: 0.9000 - val_loss: 0.4468\n",
      "Epoch 57/100\n",
      "\u001B[1m13/13\u001B[0m \u001B[32m━━━━━━━━━━━━━━━━━━━━\u001B[0m\u001B[37m\u001B[0m \u001B[1m0s\u001B[0m 6ms/step - accuracy: 0.9968 - loss: 0.0104 - val_accuracy: 0.9050 - val_loss: 0.4851\n",
      "Epoch 58/100\n",
      "\u001B[1m13/13\u001B[0m \u001B[32m━━━━━━━━━━━━━━━━━━━━\u001B[0m\u001B[37m\u001B[0m \u001B[1m0s\u001B[0m 7ms/step - accuracy: 0.9982 - loss: 0.0060 - val_accuracy: 0.9050 - val_loss: 0.4924\n",
      "Epoch 59/100\n",
      "\u001B[1m13/13\u001B[0m \u001B[32m━━━━━━━━━━━━━━━━━━━━\u001B[0m\u001B[37m\u001B[0m \u001B[1m0s\u001B[0m 7ms/step - accuracy: 1.0000 - loss: 0.0041 - val_accuracy: 0.8800 - val_loss: 0.4897\n",
      "Epoch 60/100\n",
      "\u001B[1m13/13\u001B[0m \u001B[32m━━━━━━━━━━━━━━━━━━━━\u001B[0m\u001B[37m\u001B[0m \u001B[1m0s\u001B[0m 7ms/step - accuracy: 1.0000 - loss: 0.0055 - val_accuracy: 0.9000 - val_loss: 0.4978\n",
      "Epoch 61/100\n",
      "\u001B[1m13/13\u001B[0m \u001B[32m━━━━━━━━━━━━━━━━━━━━\u001B[0m\u001B[37m\u001B[0m \u001B[1m0s\u001B[0m 6ms/step - accuracy: 1.0000 - loss: 0.0068 - val_accuracy: 0.9000 - val_loss: 0.5166\n",
      "Epoch 62/100\n",
      "\u001B[1m13/13\u001B[0m \u001B[32m━━━━━━━━━━━━━━━━━━━━\u001B[0m\u001B[37m\u001B[0m \u001B[1m0s\u001B[0m 6ms/step - accuracy: 0.9835 - loss: 0.0320 - val_accuracy: 0.9100 - val_loss: 0.5201\n",
      "Epoch 63/100\n",
      "\u001B[1m13/13\u001B[0m \u001B[32m━━━━━━━━━━━━━━━━━━━━\u001B[0m\u001B[37m\u001B[0m \u001B[1m0s\u001B[0m 6ms/step - accuracy: 1.0000 - loss: 0.0029 - val_accuracy: 0.9150 - val_loss: 0.5034\n",
      "Epoch 64/100\n",
      "\u001B[1m13/13\u001B[0m \u001B[32m━━━━━━━━━━━━━━━━━━━━\u001B[0m\u001B[37m\u001B[0m \u001B[1m0s\u001B[0m 7ms/step - accuracy: 1.0000 - loss: 0.0030 - val_accuracy: 0.8950 - val_loss: 0.5528\n",
      "Epoch 65/100\n",
      "\u001B[1m13/13\u001B[0m \u001B[32m━━━━━━━━━━━━━━━━━━━━\u001B[0m\u001B[37m\u001B[0m \u001B[1m0s\u001B[0m 7ms/step - accuracy: 0.9973 - loss: 0.0069 - val_accuracy: 0.9100 - val_loss: 0.4862\n",
      "Epoch 66/100\n",
      "\u001B[1m13/13\u001B[0m \u001B[32m━━━━━━━━━━━━━━━━━━━━\u001B[0m\u001B[37m\u001B[0m \u001B[1m0s\u001B[0m 7ms/step - accuracy: 0.9991 - loss: 0.0031 - val_accuracy: 0.9050 - val_loss: 0.5055\n",
      "Epoch 67/100\n",
      "\u001B[1m13/13\u001B[0m \u001B[32m━━━━━━━━━━━━━━━━━━━━\u001B[0m\u001B[37m\u001B[0m \u001B[1m0s\u001B[0m 6ms/step - accuracy: 0.9965 - loss: 0.0080 - val_accuracy: 0.9000 - val_loss: 0.5461\n",
      "Epoch 68/100\n",
      "\u001B[1m13/13\u001B[0m \u001B[32m━━━━━━━━━━━━━━━━━━━━\u001B[0m\u001B[37m\u001B[0m \u001B[1m0s\u001B[0m 7ms/step - accuracy: 1.0000 - loss: 0.0020 - val_accuracy: 0.9150 - val_loss: 0.5057\n",
      "Epoch 69/100\n",
      "\u001B[1m13/13\u001B[0m \u001B[32m━━━━━━━━━━━━━━━━━━━━\u001B[0m\u001B[37m\u001B[0m \u001B[1m0s\u001B[0m 7ms/step - accuracy: 1.0000 - loss: 0.0017 - val_accuracy: 0.9100 - val_loss: 0.5522\n",
      "Epoch 70/100\n",
      "\u001B[1m13/13\u001B[0m \u001B[32m━━━━━━━━━━━━━━━━━━━━\u001B[0m\u001B[37m\u001B[0m \u001B[1m0s\u001B[0m 7ms/step - accuracy: 1.0000 - loss: 0.0020 - val_accuracy: 0.9100 - val_loss: 0.5640\n",
      "Epoch 71/100\n",
      "\u001B[1m13/13\u001B[0m \u001B[32m━━━━━━━━━━━━━━━━━━━━\u001B[0m\u001B[37m\u001B[0m \u001B[1m0s\u001B[0m 6ms/step - accuracy: 0.9942 - loss: 0.0106 - val_accuracy: 0.9100 - val_loss: 0.5010\n",
      "Epoch 72/100\n",
      "\u001B[1m13/13\u001B[0m \u001B[32m━━━━━━━━━━━━━━━━━━━━\u001B[0m\u001B[37m\u001B[0m \u001B[1m0s\u001B[0m 7ms/step - accuracy: 1.0000 - loss: 0.0016 - val_accuracy: 0.9050 - val_loss: 0.5292\n",
      "Epoch 73/100\n",
      "\u001B[1m13/13\u001B[0m \u001B[32m━━━━━━━━━━━━━━━━━━━━\u001B[0m\u001B[37m\u001B[0m \u001B[1m0s\u001B[0m 7ms/step - accuracy: 0.9993 - loss: 0.0042 - val_accuracy: 0.9050 - val_loss: 0.5220\n",
      "Epoch 74/100\n",
      "\u001B[1m13/13\u001B[0m \u001B[32m━━━━━━━━━━━━━━━━━━━━\u001B[0m\u001B[37m\u001B[0m \u001B[1m0s\u001B[0m 8ms/step - accuracy: 1.0000 - loss: 0.0015 - val_accuracy: 0.9050 - val_loss: 0.5389\n",
      "Epoch 75/100\n",
      "\u001B[1m13/13\u001B[0m \u001B[32m━━━━━━━━━━━━━━━━━━━━\u001B[0m\u001B[37m\u001B[0m \u001B[1m0s\u001B[0m 6ms/step - accuracy: 1.0000 - loss: 0.0021 - val_accuracy: 0.8800 - val_loss: 0.5210\n",
      "Epoch 76/100\n",
      "\u001B[1m13/13\u001B[0m \u001B[32m━━━━━━━━━━━━━━━━━━━━\u001B[0m\u001B[37m\u001B[0m \u001B[1m0s\u001B[0m 7ms/step - accuracy: 0.9877 - loss: 0.0233 - val_accuracy: 0.8850 - val_loss: 0.5455\n",
      "Epoch 77/100\n",
      "\u001B[1m13/13\u001B[0m \u001B[32m━━━━━━━━━━━━━━━━━━━━\u001B[0m\u001B[37m\u001B[0m \u001B[1m0s\u001B[0m 7ms/step - accuracy: 1.0000 - loss: 0.0018 - val_accuracy: 0.9100 - val_loss: 0.5520\n",
      "Epoch 78/100\n",
      "\u001B[1m13/13\u001B[0m \u001B[32m━━━━━━━━━━━━━━━━━━━━\u001B[0m\u001B[37m\u001B[0m \u001B[1m0s\u001B[0m 6ms/step - accuracy: 1.0000 - loss: 7.3086e-04 - val_accuracy: 0.9100 - val_loss: 0.5730\n",
      "Epoch 79/100\n",
      "\u001B[1m13/13\u001B[0m \u001B[32m━━━━━━━━━━━━━━━━━━━━\u001B[0m\u001B[37m\u001B[0m \u001B[1m0s\u001B[0m 7ms/step - accuracy: 1.0000 - loss: 0.0012 - val_accuracy: 0.9100 - val_loss: 0.5624\n",
      "Epoch 80/100\n",
      "\u001B[1m13/13\u001B[0m \u001B[32m━━━━━━━━━━━━━━━━━━━━\u001B[0m\u001B[37m\u001B[0m \u001B[1m0s\u001B[0m 7ms/step - accuracy: 1.0000 - loss: 8.9803e-04 - val_accuracy: 0.8850 - val_loss: 0.5716\n",
      "Epoch 81/100\n",
      "\u001B[1m13/13\u001B[0m \u001B[32m━━━━━━━━━━━━━━━━━━━━\u001B[0m\u001B[37m\u001B[0m \u001B[1m0s\u001B[0m 7ms/step - accuracy: 1.0000 - loss: 0.0031 - val_accuracy: 0.9150 - val_loss: 0.5768\n",
      "Epoch 82/100\n",
      "\u001B[1m13/13\u001B[0m \u001B[32m━━━━━━━━━━━━━━━━━━━━\u001B[0m\u001B[37m\u001B[0m \u001B[1m0s\u001B[0m 7ms/step - accuracy: 1.0000 - loss: 7.1076e-04 - val_accuracy: 0.9050 - val_loss: 0.5609\n",
      "Epoch 83/100\n",
      "\u001B[1m13/13\u001B[0m \u001B[32m━━━━━━━━━━━━━━━━━━━━\u001B[0m\u001B[37m\u001B[0m \u001B[1m0s\u001B[0m 7ms/step - accuracy: 1.0000 - loss: 5.7067e-04 - val_accuracy: 0.9200 - val_loss: 0.5565\n",
      "Epoch 84/100\n",
      "\u001B[1m13/13\u001B[0m \u001B[32m━━━━━━━━━━━━━━━━━━━━\u001B[0m\u001B[37m\u001B[0m \u001B[1m0s\u001B[0m 6ms/step - accuracy: 0.9980 - loss: 0.0107 - val_accuracy: 0.9150 - val_loss: 0.5605\n",
      "Epoch 85/100\n",
      "\u001B[1m13/13\u001B[0m \u001B[32m━━━━━━━━━━━━━━━━━━━━\u001B[0m\u001B[37m\u001B[0m \u001B[1m0s\u001B[0m 7ms/step - accuracy: 1.0000 - loss: 0.0010 - val_accuracy: 0.9050 - val_loss: 0.5690\n",
      "Epoch 86/100\n",
      "\u001B[1m13/13\u001B[0m \u001B[32m━━━━━━━━━━━━━━━━━━━━\u001B[0m\u001B[37m\u001B[0m \u001B[1m0s\u001B[0m 7ms/step - accuracy: 1.0000 - loss: 4.4298e-04 - val_accuracy: 0.8950 - val_loss: 0.5601\n",
      "Epoch 87/100\n",
      "\u001B[1m13/13\u001B[0m \u001B[32m━━━━━━━━━━━━━━━━━━━━\u001B[0m\u001B[37m\u001B[0m \u001B[1m0s\u001B[0m 7ms/step - accuracy: 1.0000 - loss: 5.5327e-04 - val_accuracy: 0.8950 - val_loss: 0.5735\n",
      "Epoch 88/100\n",
      "\u001B[1m13/13\u001B[0m \u001B[32m━━━━━━━━━━━━━━━━━━━━\u001B[0m\u001B[37m\u001B[0m \u001B[1m0s\u001B[0m 6ms/step - accuracy: 1.0000 - loss: 5.5872e-04 - val_accuracy: 0.9050 - val_loss: 0.6162\n",
      "Epoch 89/100\n",
      "\u001B[1m13/13\u001B[0m \u001B[32m━━━━━━━━━━━━━━━━━━━━\u001B[0m\u001B[37m\u001B[0m \u001B[1m0s\u001B[0m 7ms/step - accuracy: 0.9991 - loss: 0.0031 - val_accuracy: 0.9200 - val_loss: 0.5795\n",
      "Epoch 90/100\n",
      "\u001B[1m13/13\u001B[0m \u001B[32m━━━━━━━━━━━━━━━━━━━━\u001B[0m\u001B[37m\u001B[0m \u001B[1m0s\u001B[0m 7ms/step - accuracy: 1.0000 - loss: 4.5942e-04 - val_accuracy: 0.9200 - val_loss: 0.5900\n",
      "Epoch 91/100\n",
      "\u001B[1m13/13\u001B[0m \u001B[32m━━━━━━━━━━━━━━━━━━━━\u001B[0m\u001B[37m\u001B[0m \u001B[1m0s\u001B[0m 6ms/step - accuracy: 1.0000 - loss: 4.3053e-04 - val_accuracy: 0.9050 - val_loss: 0.5890\n",
      "Epoch 92/100\n",
      "\u001B[1m13/13\u001B[0m \u001B[32m━━━━━━━━━━━━━━━━━━━━\u001B[0m\u001B[37m\u001B[0m \u001B[1m0s\u001B[0m 6ms/step - accuracy: 1.0000 - loss: 3.6933e-04 - val_accuracy: 0.9100 - val_loss: 0.6234\n",
      "Epoch 93/100\n",
      "\u001B[1m13/13\u001B[0m \u001B[32m━━━━━━━━━━━━━━━━━━━━\u001B[0m\u001B[37m\u001B[0m \u001B[1m0s\u001B[0m 6ms/step - accuracy: 1.0000 - loss: 6.2823e-04 - val_accuracy: 0.9100 - val_loss: 0.5930\n",
      "Epoch 94/100\n",
      "\u001B[1m13/13\u001B[0m \u001B[32m━━━━━━━━━━━━━━━━━━━━\u001B[0m\u001B[37m\u001B[0m \u001B[1m0s\u001B[0m 7ms/step - accuracy: 1.0000 - loss: 3.0192e-04 - val_accuracy: 0.8850 - val_loss: 0.5998\n",
      "Epoch 95/100\n",
      "\u001B[1m13/13\u001B[0m \u001B[32m━━━━━━━━━━━━━━━━━━━━\u001B[0m\u001B[37m\u001B[0m \u001B[1m0s\u001B[0m 6ms/step - accuracy: 1.0000 - loss: 0.0065 - val_accuracy: 0.8950 - val_loss: 0.6029\n",
      "Epoch 96/100\n",
      "\u001B[1m13/13\u001B[0m \u001B[32m━━━━━━━━━━━━━━━━━━━━\u001B[0m\u001B[37m\u001B[0m \u001B[1m0s\u001B[0m 7ms/step - accuracy: 1.0000 - loss: 6.4497e-04 - val_accuracy: 0.9150 - val_loss: 0.6153\n",
      "Epoch 97/100\n",
      "\u001B[1m13/13\u001B[0m \u001B[32m━━━━━━━━━━━━━━━━━━━━\u001B[0m\u001B[37m\u001B[0m \u001B[1m0s\u001B[0m 7ms/step - accuracy: 1.0000 - loss: 2.1835e-04 - val_accuracy: 0.9050 - val_loss: 0.6095\n",
      "Epoch 98/100\n",
      "\u001B[1m13/13\u001B[0m \u001B[32m━━━━━━━━━━━━━━━━━━━━\u001B[0m\u001B[37m\u001B[0m \u001B[1m0s\u001B[0m 7ms/step - accuracy: 1.0000 - loss: 2.2952e-04 - val_accuracy: 0.9100 - val_loss: 0.6165\n",
      "Epoch 99/100\n",
      "\u001B[1m13/13\u001B[0m \u001B[32m━━━━━━━━━━━━━━━━━━━━\u001B[0m\u001B[37m\u001B[0m \u001B[1m0s\u001B[0m 6ms/step - accuracy: 1.0000 - loss: 2.4203e-04 - val_accuracy: 0.9100 - val_loss: 0.6102\n",
      "Epoch 100/100\n",
      "\u001B[1m13/13\u001B[0m \u001B[32m━━━━━━━━━━━━━━━━━━━━\u001B[0m\u001B[37m\u001B[0m \u001B[1m0s\u001B[0m 7ms/step - accuracy: 1.0000 - loss: 2.1025e-04 - val_accuracy: 0.9100 - val_loss: 0.6253\n"
     ]
    }
   ],
   "execution_count": 27
  },
  {
   "metadata": {
    "ExecuteTime": {
     "end_time": "2025-01-10T18:22:09.928889Z",
     "start_time": "2025-01-10T18:22:09.921942Z"
    }
   },
   "cell_type": "code",
   "source": "history.model                ",
   "id": "e2df978ac2c751a8",
   "outputs": [
    {
     "data": {
      "text/plain": [
       "<Sequential name=sequential_3, built=True>"
      ]
     },
     "execution_count": 28,
     "metadata": {},
     "output_type": "execute_result"
    }
   ],
   "execution_count": 28
  },
  {
   "metadata": {
    "ExecuteTime": {
     "end_time": "2025-01-10T18:19:13.899033Z",
     "start_time": "2025-01-10T18:19:13.876244Z"
    }
   },
   "cell_type": "code",
   "source": "history.epoch",
   "id": "f81f847343958883",
   "outputs": [
    {
     "data": {
      "text/plain": [
       "[0,\n",
       " 1,\n",
       " 2,\n",
       " 3,\n",
       " 4,\n",
       " 5,\n",
       " 6,\n",
       " 7,\n",
       " 8,\n",
       " 9,\n",
       " 10,\n",
       " 11,\n",
       " 12,\n",
       " 13,\n",
       " 14,\n",
       " 15,\n",
       " 16,\n",
       " 17,\n",
       " 18,\n",
       " 19,\n",
       " 20,\n",
       " 21,\n",
       " 22,\n",
       " 23,\n",
       " 24,\n",
       " 25,\n",
       " 26,\n",
       " 27,\n",
       " 28,\n",
       " 29,\n",
       " 30,\n",
       " 31,\n",
       " 32,\n",
       " 33,\n",
       " 34,\n",
       " 35,\n",
       " 36,\n",
       " 37,\n",
       " 38,\n",
       " 39,\n",
       " 40,\n",
       " 41,\n",
       " 42,\n",
       " 43,\n",
       " 44,\n",
       " 45,\n",
       " 46,\n",
       " 47,\n",
       " 48,\n",
       " 49,\n",
       " 50,\n",
       " 51,\n",
       " 52,\n",
       " 53,\n",
       " 54,\n",
       " 55,\n",
       " 56,\n",
       " 57,\n",
       " 58,\n",
       " 59,\n",
       " 60,\n",
       " 61,\n",
       " 62,\n",
       " 63,\n",
       " 64,\n",
       " 65,\n",
       " 66,\n",
       " 67,\n",
       " 68,\n",
       " 69,\n",
       " 70,\n",
       " 71,\n",
       " 72,\n",
       " 73,\n",
       " 74,\n",
       " 75,\n",
       " 76,\n",
       " 77,\n",
       " 78,\n",
       " 79,\n",
       " 80,\n",
       " 81,\n",
       " 82,\n",
       " 83,\n",
       " 84,\n",
       " 85,\n",
       " 86,\n",
       " 87,\n",
       " 88,\n",
       " 89,\n",
       " 90,\n",
       " 91,\n",
       " 92,\n",
       " 93,\n",
       " 94,\n",
       " 95,\n",
       " 96,\n",
       " 97,\n",
       " 98,\n",
       " 99]"
      ]
     },
     "execution_count": 16,
     "metadata": {},
     "output_type": "execute_result"
    }
   ],
   "execution_count": 16
  },
  {
   "metadata": {
    "ExecuteTime": {
     "end_time": "2025-01-10T18:19:18.930522Z",
     "start_time": "2025-01-10T18:19:18.921095Z"
    }
   },
   "cell_type": "code",
   "source": "history.history.keys()",
   "id": "7253e29e5b403e14",
   "outputs": [
    {
     "data": {
      "text/plain": [
       "dict_keys(['accuracy', 'loss', 'val_accuracy', 'val_loss'])"
      ]
     },
     "execution_count": 17,
     "metadata": {},
     "output_type": "execute_result"
    }
   ],
   "execution_count": 17
  },
  {
   "metadata": {
    "ExecuteTime": {
     "end_time": "2025-01-10T18:19:20.572366Z",
     "start_time": "2025-01-10T18:19:20.561395Z"
    }
   },
   "cell_type": "code",
   "source": "history.history",
   "id": "7632575bb6a4d270",
   "outputs": [
    {
     "data": {
      "text/plain": [
       "{'accuracy': [0.07124999910593033,\n",
       "  0.3087500035762787,\n",
       "  0.47999998927116394,\n",
       "  0.59375,\n",
       "  0.6775000095367432,\n",
       "  0.7212499976158142,\n",
       "  0.7599999904632568,\n",
       "  0.7774999737739563,\n",
       "  0.8012499809265137,\n",
       "  0.8100000023841858,\n",
       "  0.8237500190734863,\n",
       "  0.8262500166893005,\n",
       "  0.8299999833106995,\n",
       "  0.8362500071525574,\n",
       "  0.8362500071525574,\n",
       "  0.8424999713897705,\n",
       "  0.8550000190734863,\n",
       "  0.8575000166893005,\n",
       "  0.8637499809265137,\n",
       "  0.8650000095367432,\n",
       "  0.8700000047683716,\n",
       "  0.8774999976158142,\n",
       "  0.8762500286102295,\n",
       "  0.8799999952316284,\n",
       "  0.8837500214576721,\n",
       "  0.8862500190734863,\n",
       "  0.8887500166893005,\n",
       "  0.8887500166893005,\n",
       "  0.8949999809265137,\n",
       "  0.8962500095367432,\n",
       "  0.8974999785423279,\n",
       "  0.9012500047683716,\n",
       "  0.9012500047683716,\n",
       "  0.9012500047683716,\n",
       "  0.8999999761581421,\n",
       "  0.90625,\n",
       "  0.9049999713897705,\n",
       "  0.9112499952316284,\n",
       "  0.9100000262260437,\n",
       "  0.9175000190734863,\n",
       "  0.9162499904632568,\n",
       "  0.918749988079071,\n",
       "  0.9212499856948853,\n",
       "  0.9162499904632568,\n",
       "  0.9162499904632568,\n",
       "  0.925000011920929,\n",
       "  0.9212499856948853,\n",
       "  0.925000011920929,\n",
       "  0.925000011920929,\n",
       "  0.9212499856948853,\n",
       "  0.9237499833106995,\n",
       "  0.9287499785423279,\n",
       "  0.925000011920929,\n",
       "  0.9275000095367432,\n",
       "  0.9312499761581421,\n",
       "  0.9325000047683716,\n",
       "  0.9275000095367432,\n",
       "  0.9287499785423279,\n",
       "  0.9325000047683716,\n",
       "  0.9350000023841858,\n",
       "  0.9337499737739563,\n",
       "  0.9375,\n",
       "  0.9350000023841858,\n",
       "  0.9362499713897705,\n",
       "  0.9399999976158142,\n",
       "  0.9437500238418579,\n",
       "  0.9424999952316284,\n",
       "  0.9399999976158142,\n",
       "  0.9375,\n",
       "  0.9449999928474426,\n",
       "  0.9437500238418579,\n",
       "  0.9399999976158142,\n",
       "  0.9449999928474426,\n",
       "  0.9462500214576721,\n",
       "  0.9462500214576721,\n",
       "  0.9462500214576721,\n",
       "  0.9474999904632568,\n",
       "  0.9487500190734863,\n",
       "  0.9487500190734863,\n",
       "  0.949999988079071,\n",
       "  0.9537500143051147,\n",
       "  0.9487500190734863,\n",
       "  0.956250011920929,\n",
       "  0.956250011920929,\n",
       "  0.9537500143051147,\n",
       "  0.9612500071525574,\n",
       "  0.9574999809265137,\n",
       "  0.9612500071525574,\n",
       "  0.9649999737739563,\n",
       "  0.9649999737739563,\n",
       "  0.9624999761581421,\n",
       "  0.9637500047683716,\n",
       "  0.9637500047683716,\n",
       "  0.9662500023841858,\n",
       "  0.9649999737739563,\n",
       "  0.9662500023841858,\n",
       "  0.96875,\n",
       "  0.9700000286102295,\n",
       "  0.9700000286102295,\n",
       "  0.9712499976158142],\n",
       " 'loss': [2.345637798309326,\n",
       "  2.1283092498779297,\n",
       "  1.9570845365524292,\n",
       "  1.7979376316070557,\n",
       "  1.6453098058700562,\n",
       "  1.4973750114440918,\n",
       "  1.354864478111267,\n",
       "  1.2226626873016357,\n",
       "  1.1011652946472168,\n",
       "  0.9920725226402283,\n",
       "  0.8974399566650391,\n",
       "  0.8168854713439941,\n",
       "  0.7472507953643799,\n",
       "  0.6872913837432861,\n",
       "  0.6362204551696777,\n",
       "  0.593702495098114,\n",
       "  0.5567496418952942,\n",
       "  0.5241939425468445,\n",
       "  0.4951919913291931,\n",
       "  0.47135329246520996,\n",
       "  0.4494044780731201,\n",
       "  0.42997458577156067,\n",
       "  0.4128827154636383,\n",
       "  0.3983110189437866,\n",
       "  0.38499510288238525,\n",
       "  0.3717550039291382,\n",
       "  0.361520379781723,\n",
       "  0.3508296310901642,\n",
       "  0.34040528535842896,\n",
       "  0.33196303248405457,\n",
       "  0.3239358067512512,\n",
       "  0.31494131684303284,\n",
       "  0.30912667512893677,\n",
       "  0.3024647831916809,\n",
       "  0.2958194613456726,\n",
       "  0.2894671559333801,\n",
       "  0.28375688195228577,\n",
       "  0.2777954041957855,\n",
       "  0.2722542881965637,\n",
       "  0.2675388753414154,\n",
       "  0.26409173011779785,\n",
       "  0.2600865066051483,\n",
       "  0.25622788071632385,\n",
       "  0.2518414855003357,\n",
       "  0.2476188689470291,\n",
       "  0.24338564276695251,\n",
       "  0.24070721864700317,\n",
       "  0.23622140288352966,\n",
       "  0.23271021246910095,\n",
       "  0.22896568477153778,\n",
       "  0.22752946615219116,\n",
       "  0.2232949286699295,\n",
       "  0.22146795690059662,\n",
       "  0.217678502202034,\n",
       "  0.2150975465774536,\n",
       "  0.21294568479061127,\n",
       "  0.21039964258670807,\n",
       "  0.207331582903862,\n",
       "  0.2045133262872696,\n",
       "  0.20360109210014343,\n",
       "  0.20004035532474518,\n",
       "  0.19776780903339386,\n",
       "  0.19457846879959106,\n",
       "  0.1929536759853363,\n",
       "  0.18988218903541565,\n",
       "  0.1881503164768219,\n",
       "  0.18709184229373932,\n",
       "  0.18529127538204193,\n",
       "  0.1826295107603073,\n",
       "  0.17939016222953796,\n",
       "  0.1790025383234024,\n",
       "  0.17765483260154724,\n",
       "  0.17431966960430145,\n",
       "  0.1730775684118271,\n",
       "  0.17106732726097107,\n",
       "  0.1697043776512146,\n",
       "  0.16688457131385803,\n",
       "  0.1651526391506195,\n",
       "  0.16345834732055664,\n",
       "  0.16136594116687775,\n",
       "  0.15992647409439087,\n",
       "  0.15791910886764526,\n",
       "  0.15727834403514862,\n",
       "  0.15517646074295044,\n",
       "  0.15377826988697052,\n",
       "  0.1512494832277298,\n",
       "  0.14983625710010529,\n",
       "  0.14794181287288666,\n",
       "  0.1470932811498642,\n",
       "  0.14541131258010864,\n",
       "  0.1443559229373932,\n",
       "  0.14149799942970276,\n",
       "  0.1413135528564453,\n",
       "  0.1388658583164215,\n",
       "  0.13911595940589905,\n",
       "  0.13727253675460815,\n",
       "  0.1355063021183014,\n",
       "  0.13337354362010956,\n",
       "  0.13320545852184296,\n",
       "  0.13130980730056763],\n",
       " 'val_accuracy': [0.20000000298023224,\n",
       "  0.4399999976158142,\n",
       "  0.5600000023841858,\n",
       "  0.6150000095367432,\n",
       "  0.6600000262260437,\n",
       "  0.7149999737739563,\n",
       "  0.7400000095367432,\n",
       "  0.7599999904632568,\n",
       "  0.7799999713897705,\n",
       "  0.7799999713897705,\n",
       "  0.8100000023841858,\n",
       "  0.8199999928474426,\n",
       "  0.8349999785423279,\n",
       "  0.8450000286102295,\n",
       "  0.8450000286102295,\n",
       "  0.8399999737739563,\n",
       "  0.8399999737739563,\n",
       "  0.8500000238418579,\n",
       "  0.8450000286102295,\n",
       "  0.8500000238418579,\n",
       "  0.8600000143051147,\n",
       "  0.8500000238418579,\n",
       "  0.8650000095367432,\n",
       "  0.8650000095367432,\n",
       "  0.8700000047683716,\n",
       "  0.8700000047683716,\n",
       "  0.8650000095367432,\n",
       "  0.875,\n",
       "  0.8849999904632568,\n",
       "  0.8799999952316284,\n",
       "  0.875,\n",
       "  0.8799999952316284,\n",
       "  0.8799999952316284,\n",
       "  0.8849999904632568,\n",
       "  0.8899999856948853,\n",
       "  0.8849999904632568,\n",
       "  0.8849999904632568,\n",
       "  0.8799999952316284,\n",
       "  0.8899999856948853,\n",
       "  0.8899999856948853,\n",
       "  0.8899999856948853,\n",
       "  0.8899999856948853,\n",
       "  0.8899999856948853,\n",
       "  0.8799999952316284,\n",
       "  0.8899999856948853,\n",
       "  0.8899999856948853,\n",
       "  0.8899999856948853,\n",
       "  0.8849999904632568,\n",
       "  0.8849999904632568,\n",
       "  0.8849999904632568,\n",
       "  0.8899999856948853,\n",
       "  0.8899999856948853,\n",
       "  0.8899999856948853,\n",
       "  0.8849999904632568,\n",
       "  0.8899999856948853,\n",
       "  0.8999999761581421,\n",
       "  0.8949999809265137,\n",
       "  0.8899999856948853,\n",
       "  0.8949999809265137,\n",
       "  0.8899999856948853,\n",
       "  0.8799999952316284,\n",
       "  0.8799999952316284,\n",
       "  0.8899999856948853,\n",
       "  0.8849999904632568,\n",
       "  0.8899999856948853,\n",
       "  0.8949999809265137,\n",
       "  0.8899999856948853,\n",
       "  0.8849999904632568,\n",
       "  0.8899999856948853,\n",
       "  0.8949999809265137,\n",
       "  0.8899999856948853,\n",
       "  0.8949999809265137,\n",
       "  0.8999999761581421,\n",
       "  0.8849999904632568,\n",
       "  0.8999999761581421,\n",
       "  0.8849999904632568,\n",
       "  0.8899999856948853,\n",
       "  0.8899999856948853,\n",
       "  0.8899999856948853,\n",
       "  0.8999999761581421,\n",
       "  0.8999999761581421,\n",
       "  0.8949999809265137,\n",
       "  0.8999999761581421,\n",
       "  0.8949999809265137,\n",
       "  0.8949999809265137,\n",
       "  0.8999999761581421,\n",
       "  0.8999999761581421,\n",
       "  0.8949999809265137,\n",
       "  0.8899999856948853,\n",
       "  0.8949999809265137,\n",
       "  0.8949999809265137,\n",
       "  0.8999999761581421,\n",
       "  0.8999999761581421,\n",
       "  0.9049999713897705,\n",
       "  0.8999999761581421,\n",
       "  0.9049999713897705,\n",
       "  0.8999999761581421,\n",
       "  0.8899999856948853,\n",
       "  0.8949999809265137,\n",
       "  0.8999999761581421],\n",
       " 'val_loss': [2.1940393447875977,\n",
       "  2.0048305988311768,\n",
       "  1.8436224460601807,\n",
       "  1.6920932531356812,\n",
       "  1.5430731773376465,\n",
       "  1.405042290687561,\n",
       "  1.2741717100143433,\n",
       "  1.150754451751709,\n",
       "  1.047374963760376,\n",
       "  0.9508953094482422,\n",
       "  0.8629238605499268,\n",
       "  0.7919110059738159,\n",
       "  0.7364265322685242,\n",
       "  0.6826217174530029,\n",
       "  0.6422724723815918,\n",
       "  0.6069133281707764,\n",
       "  0.5753751397132874,\n",
       "  0.5467305779457092,\n",
       "  0.5268368124961853,\n",
       "  0.5052940249443054,\n",
       "  0.48806697130203247,\n",
       "  0.4751346707344055,\n",
       "  0.4605869650840759,\n",
       "  0.4522590935230255,\n",
       "  0.4378536641597748,\n",
       "  0.43296483159065247,\n",
       "  0.42375460267066956,\n",
       "  0.4198473393917084,\n",
       "  0.4088785648345947,\n",
       "  0.40047863125801086,\n",
       "  0.4036923348903656,\n",
       "  0.3955853283405304,\n",
       "  0.3885844349861145,\n",
       "  0.3807087242603302,\n",
       "  0.38312095403671265,\n",
       "  0.37709853053092957,\n",
       "  0.36645370721817017,\n",
       "  0.36942940950393677,\n",
       "  0.36998093128204346,\n",
       "  0.35982808470726013,\n",
       "  0.3639587163925171,\n",
       "  0.3612397313117981,\n",
       "  0.35736775398254395,\n",
       "  0.3547751307487488,\n",
       "  0.35561680793762207,\n",
       "  0.3517206311225891,\n",
       "  0.34685584902763367,\n",
       "  0.3480066657066345,\n",
       "  0.34367188811302185,\n",
       "  0.3526902496814728,\n",
       "  0.3458855450153351,\n",
       "  0.3396093249320984,\n",
       "  0.3386494815349579,\n",
       "  0.3399064242839813,\n",
       "  0.3362038731575012,\n",
       "  0.33705589175224304,\n",
       "  0.33323946595191956,\n",
       "  0.3352704644203186,\n",
       "  0.3342878818511963,\n",
       "  0.33371222019195557,\n",
       "  0.33006346225738525,\n",
       "  0.3275931477546692,\n",
       "  0.33231666684150696,\n",
       "  0.3336879014968872,\n",
       "  0.32850101590156555,\n",
       "  0.32707837224006653,\n",
       "  0.3276670575141907,\n",
       "  0.32540756464004517,\n",
       "  0.32692599296569824,\n",
       "  0.32751139998435974,\n",
       "  0.3295319676399231,\n",
       "  0.3259781002998352,\n",
       "  0.3256330192089081,\n",
       "  0.32630112767219543,\n",
       "  0.322030633687973,\n",
       "  0.3240116238594055,\n",
       "  0.3232346773147583,\n",
       "  0.321532666683197,\n",
       "  0.32441088557243347,\n",
       "  0.3211674094200134,\n",
       "  0.32813990116119385,\n",
       "  0.32212328910827637,\n",
       "  0.31885629892349243,\n",
       "  0.32252511382102966,\n",
       "  0.3256421387195587,\n",
       "  0.32916340231895447,\n",
       "  0.32450470328330994,\n",
       "  0.32718878984451294,\n",
       "  0.32673943042755127,\n",
       "  0.3270920217037201,\n",
       "  0.3251490294933319,\n",
       "  0.3246693015098572,\n",
       "  0.3238939046859741,\n",
       "  0.322986900806427,\n",
       "  0.32620012760162354,\n",
       "  0.3283589482307434,\n",
       "  0.32460731267929077,\n",
       "  0.3267344534397125,\n",
       "  0.3274542987346649,\n",
       "  0.3273375630378723]}"
      ]
     },
     "execution_count": 18,
     "metadata": {},
     "output_type": "execute_result"
    }
   ],
   "execution_count": 18
  },
  {
   "metadata": {
    "ExecuteTime": {
     "end_time": "2025-01-10T18:19:54.846382Z",
     "start_time": "2025-01-10T18:19:54.665224Z"
    }
   },
   "cell_type": "code",
   "source": [
    "\n",
    "import matplotlib.pyplot as plt\n",
    "\n",
    "plt.plot(history.history['val_accuracy'])\n",
    "plt.plot(history.history['accuracy'])\n",
    "plt.legend(['val_accuracy', 'train'])\n",
    "plt.show()\n",
    "print(\"validation accuracy : \", max(history.history['val_accuracy']))\n",
    "print(\"Train accuracy\", max(history.history['accuracy']))"
   ],
   "id": "2f466aee941a8c41",
   "outputs": [
    {
     "data": {
      "text/plain": [
       "<Figure size 640x480 with 1 Axes>"
      ],
      "image/png": "[encoded data removed]"
     },
     "metadata": {},
     "output_type": "display_data"
    },
    {
     "name": "stdout",
     "output_type": "stream",
     "text": [
      "validation accuracy :  0.9049999713897705\n",
      "Train accuracy 0.9712499976158142\n"
     ]
    }
   ],
   "execution_count": 20
  },
  {
   "metadata": {
    "ExecuteTime": {
     "end_time": "2025-01-10T18:22:34.900753Z",
     "start_time": "2025-01-10T18:22:34.672519Z"
    }
   },
   "cell_type": "code",
   "source": [
    "\n",
    "import matplotlib.pyplot as plt\n",
    "\n",
    "plt.plot(history.history['val_accuracy'])\n",
    "plt.plot(history.history['accuracy'])\n",
    "plt.legend(['val_accuracy', 'train'])\n",
    "plt.show()\n",
    "print(\"validation accuracy : \", max(history.history['val_accuracy']))\n",
    "print(\"Train accuracy\", max(history.history['accuracy']))"
   ],
   "id": "b4ee13fbe492d66",
   "outputs": [
    {
     "data": {
      "text/plain": [
       "<Figure size 640x480 with 1 Axes>"
      ],
      "image/png": "[encoded data removed]"
     },
     "metadata": {},
     "output_type": "display_data"
    },
    {
     "name": "stdout",
     "output_type": "stream",
     "text": [
      "validation accuracy :  0.9200000166893005\n",
      "Train accuracy 1.0\n"
     ]
    }
   ],
   "execution_count": 29
  },
  {
   "metadata": {
    "ExecuteTime": {
     "end_time": "2025-01-10T18:20:04.573494Z",
     "start_time": "2025-01-10T18:20:04.377053Z"
    }
   },
   "cell_type": "code",
   "source": [
    "plt.plot(history.history['val_loss'])\n",
    "plt.plot(history.history['loss'])\n",
    "plt.legend(['val_loss', 'train-loss'])\n"
   ],
   "id": "587da6b3a03df5af",
   "outputs": [
    {
     "data": {
      "text/plain": [
       "<matplotlib.legend.Legend at 0x1f9f000a7b0>"
      ]
     },
     "execution_count": 21,
     "metadata": {},
     "output_type": "execute_result"
    },
    {
     "data": {
      "text/plain": [
       "<Figure size 640x480 with 1 Axes>"
      ],
      "image/png": "[encoded data removed]"
     },
     "metadata": {},
     "output_type": "display_data"
    }
   ],
   "execution_count": 21
  },
  {
   "metadata": {
    "ExecuteTime": {
     "end_time": "2025-01-10T18:24:00.852034Z",
     "start_time": "2025-01-10T18:24:00.627487Z"
    }
   },
   "cell_type": "code",
   "source": [
    "plt.plot(history.history['val_loss'])\n",
    "plt.plot(history.history['loss'])\n",
    "plt.legend(['val_loss', 'train-loss'])\n"
   ],
   "id": "d4f16425a1291393",
   "outputs": [
    {
     "data": {
      "text/plain": [
       "<matplotlib.legend.Legend at 0x1f9f32a2840>"
      ]
     },
     "execution_count": 30,
     "metadata": {},
     "output_type": "execute_result"
    },
    {
     "data": {
      "text/plain": [
       "<Figure size 640x480 with 1 Axes>"
      ],
      "image/png": "[encoded data removed]"
     },
     "metadata": {},
     "output_type": "display_data"
    }
   ],
   "execution_count": 30
  },
  {
   "metadata": {
    "ExecuteTime": {
     "end_time": "2025-01-10T18:24:26.953949Z",
     "start_time": "2025-01-10T18:24:26.816095Z"
    }
   },
   "cell_type": "code",
   "source": [
    "\n",
    "loss, acc = model.evaluate(X_test, y_test)\n",
    "print('\\nTesting loss: %.2f, acc: %.2f%%'%(loss, acc))"
   ],
   "id": "dea0703c1e82750b",
   "outputs": [
    {
     "name": "stdout",
     "output_type": "stream",
     "text": [
      "\u001B[1m7/7\u001B[0m \u001B[32m━━━━━━━━━━━━━━━━━━━━\u001B[0m\u001B[37m\u001B[0m \u001B[1m0s\u001B[0m 2ms/step - accuracy: 0.9387 - loss: 0.3998 \n",
      "\n",
      "Testing loss: 0.38, acc: 0.94%\n"
     ]
    }
   ],
   "execution_count": 31
  },
  {
   "metadata": {},
   "cell_type": "code",
   "source": "a = model.predict(X_test)",
   "id": "fb08d1a1099a67fd",
   "outputs": [],
   "execution_count": null
  },
  {
   "metadata": {},
   "cell_type": "code",
   "source": "a.shape",
   "id": "da5c93dc671a6f68",
   "outputs": [],
   "execution_count": null
  },
  {
   "metadata": {},
   "cell_type": "code",
   "source": "a[1].max()",
   "id": "9594fd5e02ac5f80",
   "outputs": [],
   "execution_count": null
  },
  {
   "metadata": {},
   "cell_type": "code",
   "source": "a[1].argmax()",
   "id": "e462eac52bf892ec",
   "outputs": [],
   "execution_count": null
  },
  {
   "metadata": {
    "ExecuteTime": {
     "end_time": "2025-01-10T10:42:55.278697Z",
     "start_time": "2025-01-10T10:42:55.107250Z"
    }
   },
   "cell_type": "code",
   "source": "plt.imshow(X_test[1].reshape(5,5), cmap='gray')",
   "id": "15d6f219e7c86008",
   "outputs": [
    {
     "data": {
      "text/plain": [
       "<matplotlib.image.AxesImage at 0x2922a8523f0>"
      ]
     },
     "execution_count": 77,
     "metadata": {},
     "output_type": "execute_result"
    },
    {
     "data": {
      "text/plain": [
       "<Figure size 640x480 with 1 Axes>"
      ],
      "image/png": "[encoded data removed]"
     },
     "metadata": {},
     "output_type": "display_data"
    }
   ],
   "execution_count": 77
  },
  {
   "metadata": {
    "ExecuteTime": {
     "end_time": "2025-01-10T10:42:55.285407Z",
     "start_time": "2025-01-10T10:42:55.280645Z"
    }
   },
   "cell_type": "code",
   "source": "plt.imshow(a[1].reshape(5,5), cmap='gray')",
   "id": "b8fddba0cdd5b978",
   "outputs": [],
   "execution_count": 77
  },
  {
   "metadata": {
    "ExecuteTime": {
     "end_time": "2025-01-10T10:42:55.295241Z",
     "start_time": "2025-01-10T10:42:55.287408Z"
    }
   },
   "cell_type": "code",
   "source": "y_test.argmax(axis=1)",
   "id": "9bd6c2b5b80c8159",
   "outputs": [
    {
     "data": {
      "text/plain": [
       "array([7, 2, 3, 1, 5, 5, 4, 7, 3, 2, 0, 8, 8, 0, 2, 9, 3, 6, 7, 4, 0, 3,\n",
       "       6, 3, 9, 2, 7, 5, 2, 9, 7, 5, 5, 8, 9, 6, 5, 1, 4, 8, 8, 4, 7, 7,\n",
       "       1, 2, 7, 9, 0, 3, 7, 4, 7, 5, 2, 9, 8, 2, 9, 8, 8, 6, 6, 6, 6, 6,\n",
       "       2, 4, 3, 4, 4, 5, 9, 1, 8, 2, 0, 5, 6, 2, 4, 3, 2, 7, 7, 7, 7, 1,\n",
       "       8, 1, 7, 8, 7, 7, 8, 9, 3, 2, 3, 1, 0, 2, 9, 6, 3, 5, 5, 0, 0, 3,\n",
       "       6, 7, 9, 3, 9, 9, 8, 7, 9, 2, 5, 2, 5, 5, 9, 6, 9, 2, 0, 3, 7, 6,\n",
       "       5, 2, 9, 0, 4, 1, 8, 2, 2, 3, 0, 2, 9, 3, 8, 6, 7, 0, 9, 9, 0, 7,\n",
       "       6, 5, 4, 7, 9, 3, 7, 0, 7, 1, 9, 4, 7, 3, 4, 1, 5, 6, 7, 9, 1, 3,\n",
       "       5, 4, 5, 7, 4, 1, 3, 3, 1, 2, 3, 3, 8, 9, 6, 7, 7, 2, 3, 0, 1, 4,\n",
       "       9, 5], dtype=int64)"
      ]
     },
     "execution_count": 78,
     "metadata": {},
     "output_type": "execute_result"
    }
   ],
   "execution_count": 78
  },
  {
   "metadata": {
    "ExecuteTime": {
     "end_time": "2025-01-10T10:42:55.307454Z",
     "start_time": "2025-01-10T10:42:55.298296Z"
    }
   },
   "cell_type": "code",
   "source": "a.argmax(axis=1)",
   "id": "7a72dea1a23e65e7",
   "outputs": [
    {
     "data": {
      "text/plain": [
       "array([7, 2, 3, 1, 5, 5, 4, 7, 3, 2, 0, 8, 8, 0, 2, 9, 3, 6, 7, 4, 0, 3,\n",
       "       6, 3, 9, 2, 7, 5, 2, 9, 2, 5, 5, 8, 9, 6, 5, 1, 4, 8, 8, 4, 2, 2,\n",
       "       1, 2, 7, 9, 0, 3, 7, 5, 7, 5, 2, 9, 8, 2, 9, 8, 8, 6, 6, 6, 6, 6,\n",
       "       2, 4, 2, 4, 4, 5, 9, 1, 8, 4, 0, 5, 6, 2, 4, 6, 2, 7, 7, 7, 7, 1,\n",
       "       8, 1, 7, 8, 7, 7, 8, 9, 7, 2, 3, 1, 0, 2, 9, 6, 3, 5, 5, 0, 0, 9,\n",
       "       6, 7, 9, 3, 9, 9, 8, 7, 9, 2, 5, 2, 5, 5, 9, 6, 9, 2, 5, 3, 7, 9,\n",
       "       5, 2, 9, 0, 4, 1, 8, 2, 2, 3, 5, 2, 9, 3, 8, 2, 7, 0, 9, 9, 0, 7,\n",
       "       6, 5, 4, 4, 9, 3, 7, 0, 7, 1, 9, 4, 7, 3, 4, 1, 5, 6, 7, 9, 1, 3,\n",
       "       5, 4, 5, 3, 4, 1, 3, 3, 1, 1, 3, 3, 8, 9, 6, 7, 7, 2, 3, 0, 1, 4,\n",
       "       9, 5], dtype=int64)"
      ]
     },
     "execution_count": 79,
     "metadata": {},
     "output_type": "execute_result"
    }
   ],
   "execution_count": 79
  },
  {
   "metadata": {
    "ExecuteTime": {
     "end_time": "2025-01-10T10:42:55.319651Z",
     "start_time": "2025-01-10T10:42:55.309972Z"
    }
   },
   "cell_type": "code",
   "source": "a.argmax(axis=1)==y_test.argmax(axis=1)",
   "id": "4edeff509c2581e9",
   "outputs": [
    {
     "data": {
      "text/plain": [
       "array([ True,  True,  True,  True,  True,  True,  True,  True,  True,\n",
       "        True,  True,  True,  True,  True,  True,  True,  True,  True,\n",
       "        True,  True,  True,  True,  True,  True,  True,  True,  True,\n",
       "        True,  True,  True, False,  True,  True,  True,  True,  True,\n",
       "        True,  True,  True,  True,  True,  True, False, False,  True,\n",
       "        True,  True,  True,  True,  True,  True, False,  True,  True,\n",
       "        True,  True,  True,  True,  True,  True,  True,  True,  True,\n",
       "        True,  True,  True,  True,  True, False,  True,  True,  True,\n",
       "        True,  True,  True, False,  True,  True,  True,  True,  True,\n",
       "       False,  True,  True,  True,  True,  True,  True,  True,  True,\n",
       "        True,  True,  True,  True,  True,  True, False,  True,  True,\n",
       "        True,  True,  True,  True,  True,  True,  True,  True,  True,\n",
       "        True, False,  True,  True,  True,  True,  True,  True,  True,\n",
       "        True,  True,  True,  True,  True,  True,  True,  True,  True,\n",
       "        True,  True, False,  True,  True, False,  True,  True,  True,\n",
       "        True,  True,  True,  True,  True,  True,  True, False,  True,\n",
       "        True,  True,  True, False,  True,  True,  True,  True,  True,\n",
       "        True,  True,  True,  True, False,  True,  True,  True,  True,\n",
       "        True,  True,  True,  True,  True,  True,  True,  True,  True,\n",
       "        True,  True,  True,  True,  True,  True,  True,  True, False,\n",
       "        True,  True,  True,  True,  True, False,  True,  True,  True,\n",
       "        True,  True,  True,  True,  True,  True,  True,  True,  True,\n",
       "        True,  True])"
      ]
     },
     "execution_count": 80,
     "metadata": {},
     "output_type": "execute_result"
    }
   ],
   "execution_count": 80
  },
  {
   "metadata": {
    "ExecuteTime": {
     "end_time": "2025-01-10T10:42:55.330729Z",
     "start_time": "2025-01-10T10:42:55.323169Z"
    }
   },
   "cell_type": "code",
   "source": "",
   "id": "295183061dba3050",
   "outputs": [],
   "execution_count": 80
  },
  {
   "metadata": {
    "ExecuteTime": {
     "end_time": "2025-01-10T10:42:55.384216Z",
     "start_time": "2025-01-10T10:42:55.376075Z"
    }
   },
   "cell_type": "code",
   "source": [
    "\n",
    "# The predict_classes function outputs the highest probability class\n",
    "# according to the trained classifier for each input example.\n",
    "predicted_classes= np.argmax(a, axis=1)\n",
    "print(\"predicted:\")\n",
    "print(predicted_classes)\n",
    "print(\"True Label:\")\n",
    "print(y_test_original)\n"
   ],
   "id": "c195a71ecae48bf3",
   "outputs": [
    {
     "name": "stdout",
     "output_type": "stream",
     "text": [
      "predicted:\n",
      "[7 2 3 1 5 5 4 7 3 2 0 8 8 0 2 9 3 6 7 4 0 3 6 3 9 2 7 5 2 9 2 5 5 8 9 6 5\n",
      " 1 4 8 8 4 2 2 1 2 7 9 0 3 7 5 7 5 2 9 8 2 9 8 8 6 6 6 6 6 2 4 2 4 4 5 9 1\n",
      " 8 4 0 5 6 2 4 6 2 7 7 7 7 1 8 1 7 8 7 7 8 9 7 2 3 1 0 2 9 6 3 5 5 0 0 9 6\n",
      " 7 9 3 9 9 8 7 9 2 5 2 5 5 9 6 9 2 5 3 7 9 5 2 9 0 4 1 8 2 2 3 5 2 9 3 8 2\n",
      " 7 0 9 9 0 7 6 5 4 4 9 3 7 0 7 1 9 4 7 3 4 1 5 6 7 9 1 3 5 4 5 3 4 1 3 3 1\n",
      " 1 3 3 8 9 6 7 7 2 3 0 1 4 9 5]\n",
      "True Label:\n",
      "[7 2 3 1 5 5 4 7 3 2 0 8 8 0 2 9 3 6 7 4 0 3 6 3 9 2 7 5 2 9 7 5 5 8 9 6 5\n",
      " 1 4 8 8 4 7 7 1 2 7 9 0 3 7 4 7 5 2 9 8 2 9 8 8 6 6 6 6 6 2 4 3 4 4 5 9 1\n",
      " 8 2 0 5 6 2 4 3 2 7 7 7 7 1 8 1 7 8 7 7 8 9 3 2 3 1 0 2 9 6 3 5 5 0 0 3 6\n",
      " 7 9 3 9 9 8 7 9 2 5 2 5 5 9 6 9 2 0 3 7 6 5 2 9 0 4 1 8 2 2 3 0 2 9 3 8 6\n",
      " 7 0 9 9 0 7 6 5 4 7 9 3 7 0 7 1 9 4 7 3 4 1 5 6 7 9 1 3 5 4 5 7 4 1 3 3 1\n",
      " 2 3 3 8 9 6 7 7 2 3 0 1 4 9 5]\n"
     ]
    }
   ],
   "execution_count": 81
  },
  {
   "metadata": {
    "ExecuteTime": {
     "end_time": "2025-01-10T10:42:55.712555Z",
     "start_time": "2025-01-10T10:42:55.506150Z"
    }
   },
   "cell_type": "code",
   "source": [
    "plt.imshow(X_test[23].reshape(5,5), cmap='Grays')\n",
    "print(\"real : \",y_test[23].argmax())\n",
    "print(\"pred : \",a[23].argmax())"
   ],
   "id": "266c03cff9299e26",
   "outputs": [
    {
     "name": "stdout",
     "output_type": "stream",
     "text": [
      "real :  3\n",
      "pred :  3\n"
     ]
    },
    {
     "data": {
      "text/plain": [
       "<Figure size 640x480 with 1 Axes>"
      ],
      "image/png": "[encoded data removed]"
     },
     "metadata": {},
     "output_type": "display_data"
    }
   ],
   "execution_count": 82
  },
  {
   "metadata": {
    "ExecuteTime": {
     "end_time": "2025-01-10T10:42:57.769106Z",
     "start_time": "2025-01-10T10:42:55.714554Z"
    }
   },
   "cell_type": "code",
   "source": [
    "\n",
    "from sklearn.metrics import confusion_matrix\n",
    "plt.matshow(confusion_matrix(y_test_original, np.argmax(a, axis=1)), cmap=\"Blues\")\n",
    "plt.xticks(range(10))\n",
    "plt.yticks(range(10))\n",
    "plt.xlabel(\"Predicted label\")\n",
    "plt.ylabel(\"True label\");"
   ],
   "id": "e3f8054b7ad0fe0f",
   "outputs": [
    {
     "data": {
      "text/plain": [
       "<Figure size 480x480 with 1 Axes>"
      ],
      "image/png": "[encoded data removed]"
     },
     "metadata": {},
     "output_type": "display_data"
    }
   ],
   "execution_count": 83
  }
 ],
 "metadata": {
  "kernelspec": {
   "display_name": "Python 3",
   "language": "python",
   "name": "python3"
  },
  "language_info": {
   "codemirror_mode": {
    "name": "ipython",
    "version": 2
   },
   "file_extension": ".py",
   "mimetype": "text/x-python",
   "name": "python",
   "nbconvert_exporter": "python",
   "pygments_lexer": "ipython2",
   "version": "2.7.6"
  }
 },
 "nbformat": 4,
 "nbformat_minor": 5
}
